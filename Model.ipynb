{
 "cells": [
  {
   "cell_type": "markdown",
   "metadata": {},
   "source": [
    "# Decentralized Multi-Robot Path Planning System Using Graph Neural Network (GNN)"
   ]
  },
  {
   "cell_type": "markdown",
   "metadata": {},
   "source": [
    "## Importing the libraries"
   ]
  },
  {
   "cell_type": "code",
   "execution_count": 1,
   "metadata": {
    "id": "bJnRlKEwyF0x"
   },
   "outputs": [],
   "source": [
    "from Dataset_Generator import DatasetGenerator\n",
    "from pre_processing import Preprocessing\n",
    "from Adjacency_Matrix import adj_mat\n",
    "from Decentralized_Model import decentralizedModel\n",
    "from Test_Model import TestModel\n",
    "import torch\n",
    "import numpy as np\n",
    "import random\n",
    "import torch.nn as nn\n",
    "seed = 42\n",
    "torch.manual_seed(seed)\n",
    "np.random.seed(seed)\n",
    "random.seed(seed)\n",
    "if torch.cuda.is_available():\n",
    "    torch.cuda.manual_seed(seed)\n",
    "    torch.cuda.manual_seed_all(seed)  # for multi-GPU setups\n",
    "grid_size = 20\n",
    "num_of_robots = 10\n",
    "rfov = 3\n",
    "# Optional: Force deterministic behavior on GPU (may impact performance)\n",
    "torch.backends.cudnn.deterministic = True\n",
    "torch.backends.cudnn.benchmark = False"
   ]
  },
  {
   "cell_type": "markdown",
   "metadata": {},
   "source": [
    "## Dataset Generation"
   ]
  },
  {
   "cell_type": "code",
   "execution_count": null,
   "metadata": {
    "id": "XmO4SOhAO5HI"
   },
   "outputs": [],
   "source": [
    "grid = [[0 for _ in range(grid_size)] for _ in range(grid_size)]  # Generate grid map\n",
    "dataset_generator = DatasetGenerator(num_cases=10000, num_agents=num_of_robots, grid=grid)\n",
    "# cases = dataset_generator.generate_cases()\n",
    "# dataset_generator.save_cases_to_file(cases, \"dataset.json\")\n",
    "# print(f\"Generated and saved {len(cases)} cases.\")\n",
    "cases = dataset_generator.load_cases_from_file(\"dataset.json\")"
   ]
  },
  {
   "cell_type": "markdown",
   "metadata": {},
   "source": [
    "## Preprocessing"
   ]
  },
  {
   "cell_type": "code",
   "execution_count": null,
   "metadata": {
    "id": "za9iWHUkO8gF"
   },
   "outputs": [],
   "source": [
    "p = Preprocessing(grid,cases, rfov)\n",
    "data_tensors  = p.begin()"
   ]
  },
  {
   "cell_type": "markdown",
   "metadata": {},
   "source": [
    "#### Adjacency Matrix"
   ]
  },
  {
   "cell_type": "code",
   "execution_count": null,
   "metadata": {
    "id": "Hbd4P0FJO_Vr"
   },
   "outputs": [],
   "source": [
    "adj = adj_mat(cases,rfov)\n",
    "adj_matrices = adj.get_adj_mat()"
   ]
  },
  {
   "cell_type": "markdown",
   "metadata": {},
   "source": [
    "## Model Training"
   ]
  },
  {
   "cell_type": "code",
   "execution_count": null,
   "metadata": {
    "id": "Gqgfg0pcQdLE"
   },
   "outputs": [],
   "source": [
    "trained_model = decentralizedModel(cases, data_tensors,rfov = rfov,adjacency_matrix = adj_matrices,num_of_robots = num_of_robots, k_hops = 2, num_epochs = 40, checkpoint_path='dataset_10000_on_10_robots.pth')"
   ]
  },
  {
   "cell_type": "code",
   "execution_count": null,
   "metadata": {
    "id": "g8-ExnyyQe2k"
   },
   "outputs": [],
   "source": [
    "if torch.cuda.is_available():\n",
    "    trained_model.to(device=\"cuda\")"
   ]
  },
  {
   "cell_type": "code",
   "execution_count": null,
   "metadata": {
    "id": "hrQgE56MQgPf"
   },
   "outputs": [],
   "source": [
    "trained_model.train_model()"
   ]
  },
  {
   "cell_type": "markdown",
   "metadata": {},
   "source": [
    "## Model Evaluation"
   ]
  },
  {
   "cell_type": "code",
   "execution_count": null,
   "metadata": {
    "colab": {
     "base_uri": "https://localhost:8080/"
    },
    "id": "nDQSDcgRQnt7",
    "outputId": "d51e5160-f79a-411c-90d4-cc09f01c4a29"
   },
   "outputs": [
    {
     "name": "stdout",
     "output_type": "stream",
     "text": [
      "Test Loss: 0.0837, Test Accuracy: 97.62%\n"
     ]
    },
    {
     "data": {
      "text/plain": [
       "(0.0836656704364765, 0.9762399193548387)"
      ]
     },
     "execution_count": 15,
     "metadata": {},
     "output_type": "execute_result"
    }
   ],
   "source": [
    "trained_model.test_model()"
   ]
  },
  {
   "cell_type": "code",
   "execution_count": 3,
   "metadata": {
    "colab": {
     "base_uri": "https://localhost:8080/"
    },
    "id": "TjX1pyaEcRKh",
    "outputId": "f2fbe7ab-aa35-41bf-e98c-069ee29c1f7d"
   },
   "outputs": [
    {
     "name": "stdout",
     "output_type": "stream",
     "text": [
      "case  0\n",
      "case added\n",
      "reached cases = 999\n",
      "all confilicts = 168\n",
      "all steps = 23736\n",
      "cases with confilict = 117\n",
      "success rate = 88.2%\n"
     ]
    }
   ],
   "source": [
    "num_of_cases = 1000\n",
    "test_model = TestModel(num_of_robots= 8, num_of_cases= num_of_cases, grid_size= grid_size, model_pth= 'dataset_10000_on_10_robots.pth',random_seed=23, rfov = rfov)\n",
    "reached, all_confilicts, all_steps, conflict_set_cases = test_model.test()\n",
    "not_reached = num_of_cases - reached\n",
    "success_rate = ((num_of_cases - (not_reached + len(conflict_set_cases))) / num_of_cases)*100\n",
    "print(f\"success rate = {success_rate}%\")"
   ]
  },
  {
   "cell_type": "code",
   "execution_count": null,
   "metadata": {},
   "outputs": [],
   "source": []
  }
 ],
 "metadata": {
  "accelerator": "GPU",
  "colab": {
   "gpuType": "T4",
   "provenance": []
  },
  "kernelspec": {
   "display_name": "base",
   "language": "python",
   "name": "python3"
  },
  "language_info": {
   "codemirror_mode": {
    "name": "ipython",
    "version": 3
   },
   "file_extension": ".py",
   "mimetype": "text/x-python",
   "name": "python",
   "nbconvert_exporter": "python",
   "pygments_lexer": "ipython3",
   "version": "3.11.9"
  }
 },
 "nbformat": 4,
 "nbformat_minor": 0
}
